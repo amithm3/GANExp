{
 "cells": [
  {
   "cell_type": "code",
   "execution_count": null,
   "id": "initial_id",
   "metadata": {
    "collapsed": true
   },
   "outputs": [],
   "source": [
    "%load_ext autorelxoad\n",
    "%autoreload 2\n",
    "%matplotlib inline"
   ]
  },
  {
   "cell_type": "code",
   "execution_count": null,
   "outputs": [],
   "source": [
    "import torch\n",
    "from torch import nn, optim\n",
    "from torchvision import transforms as T\n",
    "from torchvision.utils import make_grid, save_image\n",
    "\n",
    "from gan import models\n",
    "\n",
    "from utils.checkpoints import load_checkpoint, save_checkpoint\n",
    "from utils.display import display_images\n",
    "from utils.benchmark import train"
   ],
   "metadata": {
    "collapsed": false
   },
   "id": "2f248770e82b0f73"
  },
  {
   "cell_type": "code",
   "execution_count": null,
   "outputs": [],
   "source": [
    "config = models.GanConfig(\n",
    "    \"name\",\n",
    "    ...\n",
    ")"
   ],
   "metadata": {
    "collapsed": false
   },
   "id": "bcfdef1b99334d85"
  },
  {
   "cell_type": "code",
   "execution_count": null,
   "outputs": [],
   "source": [
    "ds = ...\n",
    "len(ds)"
   ],
   "metadata": {
    "collapsed": false
   },
   "id": "6e45334022a2bad"
  },
  {
   "cell_type": "code",
   "execution_count": null,
   "outputs": [],
   "source": [
    "model = ...\n",
    "optimizer = ..."
   ],
   "metadata": {
    "collapsed": false
   },
   "id": "8691d7e6b780bdd7"
  },
  {
   "cell_type": "code",
   "execution_count": null,
   "outputs": [],
   "source": [
    "if input(\"Load Model[y|n]?> \").lower() == \"y\":\n",
    "    others = load_checkpoint(\n",
    "        input(\"path?> \"),\n",
    "        models={\n",
    "        },\n",
    "        optimizers={\n",
    "        }\n",
    "    )\n",
    "    step_offset = others[\"step\"]\n",
    "else:\n",
    "    step_offset = 0\n",
    "print(\"step_offset:\", step_offset)"
   ],
   "metadata": {
    "collapsed": false
   },
   "id": "1e65b9b81eadfc4"
  },
  {
   "cell_type": "code",
   "execution_count": null,
   "outputs": [],
   "source": [
    "def data_extractor(DATA):\n",
    "    ...\n",
    "\n",
    "\n",
    "fixed_inp = data_extractor(ds[:9])\n",
    "trainer = ..."
   ],
   "metadata": {
    "collapsed": false
   },
   "id": "48404f0dcd9d90fa"
  },
  {
   "cell_type": "code",
   "execution_count": null,
   "outputs": [],
   "source": [
    "model = model.train()\n",
    "step_offset = train(\n",
    "    trainer, ds,\n",
    "    ne=1, bs=config.batch_size,\n",
    "    step_offset=step_offset,\n",
    ")\n",
    "step_offset"
   ],
   "metadata": {
    "collapsed": false
   },
   "id": "9bcad211fab7b46b"
  },
  {
   "cell_type": "code",
   "execution_count": null,
   "outputs": [],
   "source": [
    "if input(\"Save Model[y|n]?> \").lower() == \"y\":\n",
    "    save_checkpoint(\n",
    "        f\"{config.name}-model.pth\",\n",
    "        models={\n",
    "        },\n",
    "    )"
   ],
   "metadata": {
    "collapsed": false
   },
   "id": "552baf0927d3abee"
  },
  {
   "cell_type": "code",
   "execution_count": null,
   "outputs": [],
   "source": [],
   "metadata": {
    "collapsed": false
   },
   "id": "ead59319458b36be"
  }
 ],
 "metadata": {
  "kernelspec": {
   "display_name": "Python 3",
   "language": "python",
   "name": "python3"
  },
  "language_info": {
   "codemirror_mode": {
    "name": "ipython",
    "version": 2
   },
   "file_extension": ".py",
   "mimetype": "text/x-python",
   "name": "python",
   "nbconvert_exporter": "python",
   "pygments_lexer": "ipython2",
   "version": "2.7.6"
  }
 },
 "nbformat": 4,
 "nbformat_minor": 5
}
