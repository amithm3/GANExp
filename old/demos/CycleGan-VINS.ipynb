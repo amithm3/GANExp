{
 "cells": [
  {
   "cell_type": "code",
   "execution_count": 1,
   "id": "initial_id",
   "metadata": {
    "collapsed": true,
    "ExecuteTime": {
     "end_time": "2023-12-13T10:48:09.042156Z",
     "start_time": "2023-12-13T10:48:08.192232Z"
    }
   },
   "outputs": [],
   "source": [
    "%load_ext autoreload\n",
    "%autoreload 2\n",
    "%matplotlib inline"
   ]
  },
  {
   "cell_type": "code",
   "execution_count": 2,
   "outputs": [],
   "source": [
    "import torch\n",
    "from torch import nn, optim\n",
    "from torchvision import transforms as T\n",
    "from torchvision.utils import make_grid, save_image\n",
    "from torch.utils.data import Dataset\n",
    "\n",
    "from gan import models, build_cycle_gan_trainer, kl_cycle_gan_loss_step\n",
    "from utils.benchmark import train\n",
    "from utils.display import display_images\n",
    "from utils.checkpoints import load_checkpoint\n",
    "from utils.datasets import DomainDataset\n",
    "from __datasets__ import VINSDataset"
   ],
   "metadata": {
    "collapsed": false,
    "ExecuteTime": {
     "end_time": "2023-12-13T10:48:12.636028Z",
     "start_time": "2023-12-13T10:48:09.722231Z"
    }
   },
   "id": "a61e9a809e84edab"
  },
  {
   "cell_type": "code",
   "execution_count": 3,
   "outputs": [],
   "source": [
    "config = models.CycleGanConfig(\n",
    "    \"../../pytorch/datasets/vins\",\n",
    "    \"CycleGan-VINS\",\n",
    "\n",
    "    writer=True,\n",
    "    lr=2e-4,\n",
    "    p=0,\n",
    "\n",
    "    inp_channels=3,\n",
    "    hidden_channels=64,\n",
    "    out_channels=3,\n",
    "    sampling_layers=3,\n",
    "    residuals=7,\n",
    "    n=1,\n",
    "    blocks=(64, 128, 256, 512),\n",
    ")"
   ],
   "metadata": {
    "collapsed": false,
    "ExecuteTime": {
     "end_time": "2023-12-13T10:48:13.265637Z",
     "start_time": "2023-12-13T10:48:13.141440Z"
    }
   },
   "id": "c4830aa3ec9fa35a"
  },
  {
   "cell_type": "code",
   "execution_count": 4,
   "outputs": [
    {
     "data": {
      "text/plain": "740"
     },
     "execution_count": 4,
     "metadata": {},
     "output_type": "execute_result"
    }
   ],
   "source": [
    "class VINSGanDataset(Dataset):\n",
    "    def __init__(self, dataset: \"VINSDataset\"):\n",
    "        self.dataset = dataset\n",
    "\n",
    "    def __getitem__(self, item):\n",
    "        out = self.dataset[item]\n",
    "        print(out.keys())\n",
    "        image1 = out[\"image\"]\n",
    "        bboxes = out[\"bboxes\"]\n",
    "        bbox = bboxes[torch.randint(len(bboxes), (1,))]\n",
    "        image2 = image1.clone()\n",
    "        image2[:, bbox[1]:bbox[3], bbox[0]:bbox[2]] = -1\n",
    "        return {\n",
    "            \"image1\": image1,\n",
    "            \"image2\": image2,\n",
    "        }\n",
    "\n",
    "    def __len__(self):\n",
    "        return len(self.dataset)\n",
    "\n",
    "\n",
    "ds = VINSGanDataset(VINSDataset(DIR=\"./../../pytorch/datasets/vins\", SET=\"Android\", download=True, sub_sample=1,\n",
    "                                image_transform=T.Compose([\n",
    "                                    T.Resize((64, 64)),\n",
    "                                    T.ToTensor(),\n",
    "                                    T.Normalize((0.5, 0.5, 0.5), (0.5, 0.5, 0.5)),\n",
    "                                    lambda x: x.to(config.device),\n",
    "                                ])))\n",
    "len(ds)"
   ],
   "metadata": {
    "collapsed": false,
    "ExecuteTime": {
     "end_time": "2023-12-13T10:48:14.051511Z",
     "start_time": "2023-12-13T10:48:13.822541Z"
    }
   },
   "id": "10328fddfb8ace3d"
  },
  {
   "cell_type": "code",
   "execution_count": 5,
   "outputs": [
    {
     "ename": "TypeError",
     "evalue": "Conv2d.__init__() got an unexpected keyword argument 'identity'",
     "output_type": "error",
     "traceback": [
      "\u001B[0;31m---------------------------------------------------------------------------\u001B[0m",
      "\u001B[0;31mTypeError\u001B[0m                                 Traceback (most recent call last)",
      "Cell \u001B[0;32mIn[5], line 1\u001B[0m\n\u001B[0;32m----> 1\u001B[0m generatorA, generatorB, discriminatorA, discriminatorB \u001B[38;5;241m=\u001B[39m \u001B[43mmodels\u001B[49m\u001B[38;5;241;43m.\u001B[39;49m\u001B[43mbuild_CycleGan\u001B[49m\u001B[43m(\u001B[49m\u001B[43mconfig\u001B[49m\u001B[43m)\u001B[49m\n\u001B[1;32m      2\u001B[0m optimizerG \u001B[38;5;241m=\u001B[39m optim\u001B[38;5;241m.\u001B[39mAdam(\u001B[38;5;28mlist\u001B[39m(generatorA\u001B[38;5;241m.\u001B[39mparameters()) \u001B[38;5;241m+\u001B[39m \u001B[38;5;28mlist\u001B[39m(generatorB\u001B[38;5;241m.\u001B[39mparameters()), lr\u001B[38;5;241m=\u001B[39mconfig\u001B[38;5;241m.\u001B[39mlr, betas\u001B[38;5;241m=\u001B[39mconfig\u001B[38;5;241m.\u001B[39mbetas)\n\u001B[1;32m      3\u001B[0m optimizerD \u001B[38;5;241m=\u001B[39m optim\u001B[38;5;241m.\u001B[39mAdam(\u001B[38;5;28mlist\u001B[39m(discriminatorA\u001B[38;5;241m.\u001B[39mparameters()) \u001B[38;5;241m+\u001B[39m \u001B[38;5;28mlist\u001B[39m(discriminatorB\u001B[38;5;241m.\u001B[39mparameters()), lr\u001B[38;5;241m=\u001B[39mconfig\u001B[38;5;241m.\u001B[39mlr,\n\u001B[1;32m      4\u001B[0m                         betas\u001B[38;5;241m=\u001B[39mconfig\u001B[38;5;241m.\u001B[39mbetas)\n",
      "File \u001B[0;32m~/PycharmProjects/GANExp/gan/models.py:49\u001B[0m, in \u001B[0;36mbuild_CycleGan\u001B[0;34m(config)\u001B[0m\n\u001B[1;32m     48\u001B[0m \u001B[38;5;28;01mdef\u001B[39;00m \u001B[38;5;21mbuild_CycleGan\u001B[39m(config: \u001B[38;5;124m\"\u001B[39m\u001B[38;5;124mCycleGanConfig\u001B[39m\u001B[38;5;124m\"\u001B[39m):\n\u001B[0;32m---> 49\u001B[0m     generatorA \u001B[38;5;241m=\u001B[39m \u001B[43mResGenerator\u001B[49m\u001B[43m(\u001B[49m\n\u001B[1;32m     50\u001B[0m \u001B[43m        \u001B[49m\u001B[43mconfig\u001B[49m\u001B[38;5;241;43m.\u001B[39;49m\u001B[43minp_channels\u001B[49m\u001B[43m,\u001B[49m\u001B[43m \u001B[49m\u001B[43mconfig\u001B[49m\u001B[38;5;241;43m.\u001B[39;49m\u001B[43mout_channels\u001B[49m\u001B[43m,\u001B[49m\u001B[43m \u001B[49m\u001B[43mconfig\u001B[49m\u001B[38;5;241;43m.\u001B[39;49m\u001B[43mhidden_channels\u001B[49m\u001B[43m,\u001B[49m\n\u001B[1;32m     51\u001B[0m \u001B[43m        \u001B[49m\u001B[43mn\u001B[49m\u001B[38;5;241;43m=\u001B[39;49m\u001B[43mconfig\u001B[49m\u001B[38;5;241;43m.\u001B[39;49m\u001B[43mn\u001B[49m\u001B[43m,\u001B[49m\u001B[43m \u001B[49m\u001B[43mp\u001B[49m\u001B[38;5;241;43m=\u001B[39;49m\u001B[43mconfig\u001B[49m\u001B[38;5;241;43m.\u001B[39;49m\u001B[43mp\u001B[49m\u001B[43m,\u001B[49m\u001B[43m \u001B[49m\u001B[43mnorm\u001B[49m\u001B[38;5;241;43m=\u001B[39;49m\u001B[43mnn\u001B[49m\u001B[38;5;241;43m.\u001B[39;49m\u001B[43mInstanceNorm2d\u001B[49m\u001B[43m,\u001B[49m\u001B[43m \u001B[49m\u001B[43mact\u001B[49m\u001B[38;5;241;43m=\u001B[39;49m\u001B[43mnn\u001B[49m\u001B[38;5;241;43m.\u001B[39;49m\u001B[43mReLU\u001B[49m\u001B[43m,\u001B[49m\n\u001B[1;32m     52\u001B[0m \u001B[43m        \u001B[49m\u001B[43msampling_layers\u001B[49m\u001B[38;5;241;43m=\u001B[39;49m\u001B[43mconfig\u001B[49m\u001B[38;5;241;43m.\u001B[39;49m\u001B[43msampling_layers\u001B[49m\u001B[43m,\u001B[49m\u001B[43m \u001B[49m\u001B[43mresiduals\u001B[49m\u001B[38;5;241;43m=\u001B[39;49m\u001B[43mconfig\u001B[49m\u001B[38;5;241;43m.\u001B[39;49m\u001B[43mresiduals\u001B[49m\u001B[43m,\u001B[49m\n\u001B[1;32m     53\u001B[0m \u001B[43m        \u001B[49m\u001B[43mhead_kernel\u001B[49m\u001B[38;5;241;43m=\u001B[39;49m\u001B[43mconfig\u001B[49m\u001B[38;5;241;43m.\u001B[39;49m\u001B[43mhead_kernel\u001B[49m\u001B[43m,\u001B[49m\u001B[43m \u001B[49m\u001B[43mhead_stride\u001B[49m\u001B[38;5;241;43m=\u001B[39;49m\u001B[43mconfig\u001B[49m\u001B[38;5;241;43m.\u001B[39;49m\u001B[43mhead_stride\u001B[49m\u001B[43m,\u001B[49m\u001B[43m \u001B[49m\u001B[43mhead_padding\u001B[49m\u001B[38;5;241;43m=\u001B[39;49m\u001B[43mconfig\u001B[49m\u001B[38;5;241;43m.\u001B[39;49m\u001B[43mhead_padding\u001B[49m\u001B[43m,\u001B[49m\n\u001B[1;32m     54\u001B[0m \u001B[43m        \u001B[49m\u001B[43msampling_kernel\u001B[49m\u001B[38;5;241;43m=\u001B[39;49m\u001B[43mconfig\u001B[49m\u001B[38;5;241;43m.\u001B[39;49m\u001B[43msampling_kernel\u001B[49m\u001B[43m,\u001B[49m\u001B[43m \u001B[49m\u001B[43msampling_stride\u001B[49m\u001B[38;5;241;43m=\u001B[39;49m\u001B[43mconfig\u001B[49m\u001B[38;5;241;43m.\u001B[39;49m\u001B[43msampling_stride\u001B[49m\u001B[43m,\u001B[49m\n\u001B[1;32m     55\u001B[0m \u001B[43m        \u001B[49m\u001B[43msampling_padding\u001B[49m\u001B[38;5;241;43m=\u001B[39;49m\u001B[43mconfig\u001B[49m\u001B[38;5;241;43m.\u001B[39;49m\u001B[43msampling_padding\u001B[49m\u001B[43m,\u001B[49m\n\u001B[1;32m     56\u001B[0m \u001B[43m    \u001B[49m\u001B[43m)\u001B[49m\u001B[38;5;241m.\u001B[39mto(config\u001B[38;5;241m.\u001B[39mdevice)\n\u001B[1;32m     57\u001B[0m     generatorB \u001B[38;5;241m=\u001B[39m ResGenerator(\n\u001B[1;32m     58\u001B[0m         config\u001B[38;5;241m.\u001B[39minp_channels, config\u001B[38;5;241m.\u001B[39mout_channels, config\u001B[38;5;241m.\u001B[39mhidden_channels,\n\u001B[1;32m     59\u001B[0m         n\u001B[38;5;241m=\u001B[39mconfig\u001B[38;5;241m.\u001B[39mn, p\u001B[38;5;241m=\u001B[39mconfig\u001B[38;5;241m.\u001B[39mp, norm\u001B[38;5;241m=\u001B[39mnn\u001B[38;5;241m.\u001B[39mInstanceNorm2d, act\u001B[38;5;241m=\u001B[39mnn\u001B[38;5;241m.\u001B[39mReLU,\n\u001B[0;32m   (...)\u001B[0m\n\u001B[1;32m     63\u001B[0m         sampling_padding\u001B[38;5;241m=\u001B[39mconfig\u001B[38;5;241m.\u001B[39msampling_padding,\n\u001B[1;32m     64\u001B[0m     )\u001B[38;5;241m.\u001B[39mto(config\u001B[38;5;241m.\u001B[39mdevice)\n\u001B[1;32m     65\u001B[0m     discriminatorA \u001B[38;5;241m=\u001B[39m PatchDiscriminator(\n\u001B[1;32m     66\u001B[0m         config\u001B[38;5;241m.\u001B[39mout_channels, config\u001B[38;5;241m.\u001B[39mblocks,\n\u001B[1;32m     67\u001B[0m         n\u001B[38;5;241m=\u001B[39mconfig\u001B[38;5;241m.\u001B[39mn, p\u001B[38;5;241m=\u001B[39mconfig\u001B[38;5;241m.\u001B[39mp, norm\u001B[38;5;241m=\u001B[39mnn\u001B[38;5;241m.\u001B[39mInstanceNorm2d, act\u001B[38;5;241m=\u001B[39mnn\u001B[38;5;241m.\u001B[39mLeakyReLU,\n\u001B[1;32m     68\u001B[0m     )\u001B[38;5;241m.\u001B[39mto(config\u001B[38;5;241m.\u001B[39mdevice)\n",
      "File \u001B[0;32m~/PycharmProjects/GANExp/gan/generators.py:119\u001B[0m, in \u001B[0;36mResGenerator.__init__\u001B[0;34m(self, inp_channels, out_channels, hidden_channels, **kwargs)\u001B[0m\n\u001B[1;32m    112\u001B[0m downsample_blocks \u001B[38;5;241m=\u001B[39m nn\u001B[38;5;241m.\u001B[39mModuleList([\n\u001B[1;32m    113\u001B[0m     ConvBlock(hidden_channels \u001B[38;5;241m*\u001B[39m \u001B[38;5;241m2\u001B[39m \u001B[38;5;241m*\u001B[39m\u001B[38;5;241m*\u001B[39m i, hidden_channels \u001B[38;5;241m*\u001B[39m \u001B[38;5;241m2\u001B[39m \u001B[38;5;241m*\u001B[39m\u001B[38;5;241m*\u001B[39m (i \u001B[38;5;241m+\u001B[39m \u001B[38;5;241m1\u001B[39m), act, norm,\n\u001B[1;32m    114\u001B[0m               n\u001B[38;5;241m=\u001B[39mn, p\u001B[38;5;241m=\u001B[39mp, act_every_n\u001B[38;5;241m=\u001B[39m\u001B[38;5;28;01mFalse\u001B[39;00m, norm_every_n\u001B[38;5;241m=\u001B[39m\u001B[38;5;28;01mTrue\u001B[39;00m, down\u001B[38;5;241m=\u001B[39m\u001B[38;5;28;01mTrue\u001B[39;00m,\n\u001B[1;32m    115\u001B[0m               kernel_size\u001B[38;5;241m=\u001B[39msampling_kernel, stride\u001B[38;5;241m=\u001B[39msampling_stride, padding\u001B[38;5;241m=\u001B[39msampling_padding)\n\u001B[1;32m    116\u001B[0m     \u001B[38;5;28;01mfor\u001B[39;00m i \u001B[38;5;129;01min\u001B[39;00m \u001B[38;5;28mrange\u001B[39m(sample_layers)\n\u001B[1;32m    117\u001B[0m ])\n\u001B[1;32m    118\u001B[0m res_channels \u001B[38;5;241m=\u001B[39m hidden_channels \u001B[38;5;241m*\u001B[39m \u001B[38;5;241m2\u001B[39m \u001B[38;5;241m*\u001B[39m\u001B[38;5;241m*\u001B[39m sample_layers\n\u001B[0;32m--> 119\u001B[0m residual_blocks \u001B[38;5;241m=\u001B[39m nn\u001B[38;5;241m.\u001B[39mSequential(\u001B[38;5;241m*\u001B[39m\u001B[43m[\u001B[49m\n\u001B[1;32m    120\u001B[0m \u001B[43m    \u001B[49m\u001B[43mResidualConvBlock\u001B[49m\u001B[43m(\u001B[49m\u001B[43mres_channels\u001B[49m\u001B[43m,\u001B[49m\u001B[43m \u001B[49m\u001B[43mres_channels\u001B[49m\u001B[43m,\u001B[49m\u001B[43m \u001B[49m\u001B[43mact\u001B[49m\u001B[43m,\u001B[49m\u001B[43m \u001B[49m\u001B[43mnorm\u001B[49m\u001B[43m,\u001B[49m\n\u001B[1;32m    121\u001B[0m \u001B[43m                      \u001B[49m\u001B[43mn\u001B[49m\u001B[38;5;241;43m=\u001B[39;49m\u001B[43mn\u001B[49m\u001B[43m,\u001B[49m\u001B[43m \u001B[49m\u001B[43mp\u001B[49m\u001B[38;5;241;43m=\u001B[39;49m\u001B[43mp\u001B[49m\u001B[43m,\u001B[49m\u001B[43m \u001B[49m\u001B[43mact_every_n\u001B[49m\u001B[38;5;241;43m=\u001B[39;49m\u001B[38;5;28;43;01mFalse\u001B[39;49;00m\u001B[43m,\u001B[49m\u001B[43m \u001B[49m\u001B[43mnorm_every_n\u001B[49m\u001B[38;5;241;43m=\u001B[39;49m\u001B[38;5;28;43;01mTrue\u001B[39;49;00m\u001B[43m,\u001B[49m\n\u001B[1;32m    122\u001B[0m \u001B[43m                      \u001B[49m\u001B[43mkernel_size\u001B[49m\u001B[38;5;241;43m=\u001B[39;49m\u001B[38;5;241;43m3\u001B[39;49m\u001B[43m,\u001B[49m\u001B[43m \u001B[49m\u001B[43mstride\u001B[49m\u001B[38;5;241;43m=\u001B[39;49m\u001B[38;5;241;43m1\u001B[39;49m\u001B[43m,\u001B[49m\u001B[43m \u001B[49m\u001B[43mpadding\u001B[49m\u001B[38;5;241;43m=\u001B[39;49m\u001B[38;5;241;43m1\u001B[39;49m\u001B[43m,\u001B[49m\n\u001B[1;32m    123\u001B[0m \u001B[43m                      \u001B[49m\u001B[43midentity\u001B[49m\u001B[38;5;241;43m=\u001B[39;49m\u001B[38;5;28;43;01mTrue\u001B[39;49;00m\u001B[43m)\u001B[49m\n\u001B[1;32m    124\u001B[0m \u001B[43m    \u001B[49m\u001B[38;5;28;43;01mfor\u001B[39;49;00m\u001B[43m \u001B[49m\u001B[43m_\u001B[49m\u001B[43m \u001B[49m\u001B[38;5;129;43;01min\u001B[39;49;00m\u001B[43m \u001B[49m\u001B[38;5;28;43mrange\u001B[39;49m\u001B[43m(\u001B[49m\u001B[43mresiduals\u001B[49m\u001B[43m)\u001B[49m\n\u001B[1;32m    125\u001B[0m \u001B[43m\u001B[49m\u001B[43m]\u001B[49m)\n\u001B[1;32m    126\u001B[0m upsample_blocks \u001B[38;5;241m=\u001B[39m nn\u001B[38;5;241m.\u001B[39mModuleList(\u001B[38;5;28mreversed\u001B[39m([\n\u001B[1;32m    127\u001B[0m     ConvBlock(hidden_channels \u001B[38;5;241m*\u001B[39m \u001B[38;5;241m2\u001B[39m \u001B[38;5;241m*\u001B[39m\u001B[38;5;241m*\u001B[39m (i \u001B[38;5;241m+\u001B[39m \u001B[38;5;241m1\u001B[39m) \u001B[38;5;241m*\u001B[39m \u001B[38;5;241m2\u001B[39m, hidden_channels \u001B[38;5;241m*\u001B[39m \u001B[38;5;241m2\u001B[39m \u001B[38;5;241m*\u001B[39m\u001B[38;5;241m*\u001B[39m i, act, norm,\n\u001B[1;32m    128\u001B[0m               n\u001B[38;5;241m=\u001B[39mn, p\u001B[38;5;241m=\u001B[39mp, act_every_n\u001B[38;5;241m=\u001B[39m\u001B[38;5;28;01mFalse\u001B[39;00m, norm_every_n\u001B[38;5;241m=\u001B[39m\u001B[38;5;28;01mTrue\u001B[39;00m, down\u001B[38;5;241m=\u001B[39m\u001B[38;5;28;01mFalse\u001B[39;00m,\n\u001B[1;32m    129\u001B[0m               kernel_size\u001B[38;5;241m=\u001B[39msampling_kernel, stride\u001B[38;5;241m=\u001B[39msampling_stride, padding\u001B[38;5;241m=\u001B[39msampling_padding)\n\u001B[1;32m    130\u001B[0m     \u001B[38;5;28;01mfor\u001B[39;00m i \u001B[38;5;129;01min\u001B[39;00m \u001B[38;5;28mrange\u001B[39m(sample_layers)\n\u001B[1;32m    131\u001B[0m ]))\n\u001B[1;32m    132\u001B[0m \u001B[38;5;28mself\u001B[39m\u001B[38;5;241m.\u001B[39mblocks \u001B[38;5;241m=\u001B[39m SkipBlock(downsample_blocks, residual_blocks, upsample_blocks)\n",
      "File \u001B[0;32m~/PycharmProjects/GANExp/gan/generators.py:120\u001B[0m, in \u001B[0;36m<listcomp>\u001B[0;34m(.0)\u001B[0m\n\u001B[1;32m    112\u001B[0m downsample_blocks \u001B[38;5;241m=\u001B[39m nn\u001B[38;5;241m.\u001B[39mModuleList([\n\u001B[1;32m    113\u001B[0m     ConvBlock(hidden_channels \u001B[38;5;241m*\u001B[39m \u001B[38;5;241m2\u001B[39m \u001B[38;5;241m*\u001B[39m\u001B[38;5;241m*\u001B[39m i, hidden_channels \u001B[38;5;241m*\u001B[39m \u001B[38;5;241m2\u001B[39m \u001B[38;5;241m*\u001B[39m\u001B[38;5;241m*\u001B[39m (i \u001B[38;5;241m+\u001B[39m \u001B[38;5;241m1\u001B[39m), act, norm,\n\u001B[1;32m    114\u001B[0m               n\u001B[38;5;241m=\u001B[39mn, p\u001B[38;5;241m=\u001B[39mp, act_every_n\u001B[38;5;241m=\u001B[39m\u001B[38;5;28;01mFalse\u001B[39;00m, norm_every_n\u001B[38;5;241m=\u001B[39m\u001B[38;5;28;01mTrue\u001B[39;00m, down\u001B[38;5;241m=\u001B[39m\u001B[38;5;28;01mTrue\u001B[39;00m,\n\u001B[1;32m    115\u001B[0m               kernel_size\u001B[38;5;241m=\u001B[39msampling_kernel, stride\u001B[38;5;241m=\u001B[39msampling_stride, padding\u001B[38;5;241m=\u001B[39msampling_padding)\n\u001B[1;32m    116\u001B[0m     \u001B[38;5;28;01mfor\u001B[39;00m i \u001B[38;5;129;01min\u001B[39;00m \u001B[38;5;28mrange\u001B[39m(sample_layers)\n\u001B[1;32m    117\u001B[0m ])\n\u001B[1;32m    118\u001B[0m res_channels \u001B[38;5;241m=\u001B[39m hidden_channels \u001B[38;5;241m*\u001B[39m \u001B[38;5;241m2\u001B[39m \u001B[38;5;241m*\u001B[39m\u001B[38;5;241m*\u001B[39m sample_layers\n\u001B[1;32m    119\u001B[0m residual_blocks \u001B[38;5;241m=\u001B[39m nn\u001B[38;5;241m.\u001B[39mSequential(\u001B[38;5;241m*\u001B[39m[\n\u001B[0;32m--> 120\u001B[0m     \u001B[43mResidualConvBlock\u001B[49m\u001B[43m(\u001B[49m\u001B[43mres_channels\u001B[49m\u001B[43m,\u001B[49m\u001B[43m \u001B[49m\u001B[43mres_channels\u001B[49m\u001B[43m,\u001B[49m\u001B[43m \u001B[49m\u001B[43mact\u001B[49m\u001B[43m,\u001B[49m\u001B[43m \u001B[49m\u001B[43mnorm\u001B[49m\u001B[43m,\u001B[49m\n\u001B[1;32m    121\u001B[0m \u001B[43m                      \u001B[49m\u001B[43mn\u001B[49m\u001B[38;5;241;43m=\u001B[39;49m\u001B[43mn\u001B[49m\u001B[43m,\u001B[49m\u001B[43m \u001B[49m\u001B[43mp\u001B[49m\u001B[38;5;241;43m=\u001B[39;49m\u001B[43mp\u001B[49m\u001B[43m,\u001B[49m\u001B[43m \u001B[49m\u001B[43mact_every_n\u001B[49m\u001B[38;5;241;43m=\u001B[39;49m\u001B[38;5;28;43;01mFalse\u001B[39;49;00m\u001B[43m,\u001B[49m\u001B[43m \u001B[49m\u001B[43mnorm_every_n\u001B[49m\u001B[38;5;241;43m=\u001B[39;49m\u001B[38;5;28;43;01mTrue\u001B[39;49;00m\u001B[43m,\u001B[49m\n\u001B[1;32m    122\u001B[0m \u001B[43m                      \u001B[49m\u001B[43mkernel_size\u001B[49m\u001B[38;5;241;43m=\u001B[39;49m\u001B[38;5;241;43m3\u001B[39;49m\u001B[43m,\u001B[49m\u001B[43m \u001B[49m\u001B[43mstride\u001B[49m\u001B[38;5;241;43m=\u001B[39;49m\u001B[38;5;241;43m1\u001B[39;49m\u001B[43m,\u001B[49m\u001B[43m \u001B[49m\u001B[43mpadding\u001B[49m\u001B[38;5;241;43m=\u001B[39;49m\u001B[38;5;241;43m1\u001B[39;49m\u001B[43m,\u001B[49m\n\u001B[1;32m    123\u001B[0m \u001B[43m                      \u001B[49m\u001B[43midentity\u001B[49m\u001B[38;5;241;43m=\u001B[39;49m\u001B[38;5;28;43;01mTrue\u001B[39;49;00m\u001B[43m)\u001B[49m\n\u001B[1;32m    124\u001B[0m     \u001B[38;5;28;01mfor\u001B[39;00m _ \u001B[38;5;129;01min\u001B[39;00m \u001B[38;5;28mrange\u001B[39m(residuals)\n\u001B[1;32m    125\u001B[0m ])\n\u001B[1;32m    126\u001B[0m upsample_blocks \u001B[38;5;241m=\u001B[39m nn\u001B[38;5;241m.\u001B[39mModuleList(\u001B[38;5;28mreversed\u001B[39m([\n\u001B[1;32m    127\u001B[0m     ConvBlock(hidden_channels \u001B[38;5;241m*\u001B[39m \u001B[38;5;241m2\u001B[39m \u001B[38;5;241m*\u001B[39m\u001B[38;5;241m*\u001B[39m (i \u001B[38;5;241m+\u001B[39m \u001B[38;5;241m1\u001B[39m) \u001B[38;5;241m*\u001B[39m \u001B[38;5;241m2\u001B[39m, hidden_channels \u001B[38;5;241m*\u001B[39m \u001B[38;5;241m2\u001B[39m \u001B[38;5;241m*\u001B[39m\u001B[38;5;241m*\u001B[39m i, act, norm,\n\u001B[1;32m    128\u001B[0m               n\u001B[38;5;241m=\u001B[39mn, p\u001B[38;5;241m=\u001B[39mp, act_every_n\u001B[38;5;241m=\u001B[39m\u001B[38;5;28;01mFalse\u001B[39;00m, norm_every_n\u001B[38;5;241m=\u001B[39m\u001B[38;5;28;01mTrue\u001B[39;00m, down\u001B[38;5;241m=\u001B[39m\u001B[38;5;28;01mFalse\u001B[39;00m,\n\u001B[1;32m    129\u001B[0m               kernel_size\u001B[38;5;241m=\u001B[39msampling_kernel, stride\u001B[38;5;241m=\u001B[39msampling_stride, padding\u001B[38;5;241m=\u001B[39msampling_padding)\n\u001B[1;32m    130\u001B[0m     \u001B[38;5;28;01mfor\u001B[39;00m i \u001B[38;5;129;01min\u001B[39;00m \u001B[38;5;28mrange\u001B[39m(sample_layers)\n\u001B[1;32m    131\u001B[0m ]))\n\u001B[1;32m    132\u001B[0m \u001B[38;5;28mself\u001B[39m\u001B[38;5;241m.\u001B[39mblocks \u001B[38;5;241m=\u001B[39m SkipBlock(downsample_blocks, residual_blocks, upsample_blocks)\n",
      "File \u001B[0;32m~/PycharmProjects/GANExp/utils/blocks.py:228\u001B[0m, in \u001B[0;36mResidualConvBlock.__init__\u001B[0;34m(self, inp_channels, out_channels, act, norm, **kwargs)\u001B[0m\n\u001B[1;32m    207\u001B[0m \u001B[38;5;28;01mdef\u001B[39;00m \u001B[38;5;21m__init__\u001B[39m(\n\u001B[1;32m    208\u001B[0m         \u001B[38;5;28mself\u001B[39m,\n\u001B[1;32m    209\u001B[0m         inp_channels: \u001B[38;5;28mint\u001B[39m,\n\u001B[0;32m   (...)\u001B[0m\n\u001B[1;32m    213\u001B[0m         \u001B[38;5;241m*\u001B[39m\u001B[38;5;241m*\u001B[39mkwargs,\n\u001B[1;32m    214\u001B[0m ):\n\u001B[1;32m    215\u001B[0m \u001B[38;5;250m    \u001B[39m\u001B[38;5;124;03m\"\"\"\u001B[39;00m\n\u001B[1;32m    216\u001B[0m \u001B[38;5;124;03m    Compact Residual convolutional block\u001B[39;00m\n\u001B[1;32m    217\u001B[0m \u001B[38;5;124;03m    :param inp_channels: number of input channels\u001B[39;00m\n\u001B[0;32m   (...)\u001B[0m\n\u001B[1;32m    226\u001B[0m \u001B[38;5;124;03m    :keyword down: whether to downsample, if False, then upsample\u001B[39;00m\n\u001B[1;32m    227\u001B[0m \u001B[38;5;124;03m    \"\"\"\u001B[39;00m\n\u001B[0;32m--> 228\u001B[0m     \u001B[38;5;28;43msuper\u001B[39;49m\u001B[43m(\u001B[49m\u001B[43m)\u001B[49m\u001B[38;5;241;43m.\u001B[39;49m\u001B[38;5;21;43m__init__\u001B[39;49m\u001B[43m(\u001B[49m\u001B[43minp_channels\u001B[49m\u001B[43m,\u001B[49m\u001B[43m \u001B[49m\u001B[43mout_channels\u001B[49m\u001B[43m,\u001B[49m\u001B[43m \u001B[49m\u001B[43mact\u001B[49m\u001B[43m,\u001B[49m\u001B[43m \u001B[49m\u001B[43mnorm\u001B[49m\u001B[43m,\u001B[49m\u001B[43m \u001B[49m\u001B[38;5;241;43m*\u001B[39;49m\u001B[38;5;241;43m*\u001B[39;49m\u001B[43mkwargs\u001B[49m\u001B[43m)\u001B[49m\n\u001B[1;32m    229\u001B[0m     \u001B[38;5;28;01mwith\u001B[39;00m torch\u001B[38;5;241m.\u001B[39mno_grad():\n\u001B[1;32m    230\u001B[0m         inp_shape \u001B[38;5;241m=\u001B[39m (\u001B[38;5;241m1\u001B[39m, inp_channels, \u001B[38;5;241m64\u001B[39m, \u001B[38;5;241m64\u001B[39m)\n",
      "File \u001B[0;32m~/PycharmProjects/GANExp/utils/blocks.py:141\u001B[0m, in \u001B[0;36mConvBlock.__init__\u001B[0;34m(self, inp_channels, out_channels, act, norm, **kwargs)\u001B[0m\n\u001B[1;32m    137\u001B[0m \u001B[38;5;28msuper\u001B[39m()\u001B[38;5;241m.\u001B[39m\u001B[38;5;21m__init__\u001B[39m()\n\u001B[1;32m    139\u001B[0m CONV \u001B[38;5;241m=\u001B[39m nn\u001B[38;5;241m.\u001B[39mConv2d \u001B[38;5;28;01mif\u001B[39;00m down \u001B[38;5;28;01melse\u001B[39;00m nn\u001B[38;5;241m.\u001B[39mConvTranspose2d\n\u001B[1;32m    140\u001B[0m layers \u001B[38;5;241m=\u001B[39m [\n\u001B[0;32m--> 141\u001B[0m     \u001B[43mCONV\u001B[49m\u001B[43m(\u001B[49m\u001B[43minp_channels\u001B[49m\u001B[43m,\u001B[49m\u001B[43m \u001B[49m\u001B[43mout_channels\u001B[49m\u001B[43m,\u001B[49m\u001B[43m \u001B[49m\u001B[43mbias\u001B[49m\u001B[38;5;241;43m=\u001B[39;49m\u001B[38;5;129;43;01mnot\u001B[39;49;00m\u001B[43m \u001B[49m\u001B[43mnorm\u001B[49m\u001B[43m,\u001B[49m\u001B[43m \u001B[49m\u001B[38;5;241;43m*\u001B[39;49m\u001B[38;5;241;43m*\u001B[39;49m\u001B[43mkwargs\u001B[49m\u001B[43m)\u001B[49m,\n\u001B[1;32m    142\u001B[0m     act() \u001B[38;5;28;01mif\u001B[39;00m act_every_n \u001B[38;5;129;01mand\u001B[39;00m act \u001B[38;5;28;01melse\u001B[39;00m \u001B[38;5;28;01mNone\u001B[39;00m,\n\u001B[1;32m    143\u001B[0m     norm(out_channels) \u001B[38;5;28;01mif\u001B[39;00m norm_every_n \u001B[38;5;129;01mand\u001B[39;00m norm \u001B[38;5;28;01melse\u001B[39;00m \u001B[38;5;28;01mNone\u001B[39;00m,\n\u001B[1;32m    144\u001B[0m ]\n\u001B[1;32m    145\u001B[0m \u001B[38;5;28;01mfor\u001B[39;00m _ \u001B[38;5;129;01min\u001B[39;00m \u001B[38;5;28mrange\u001B[39m(\u001B[38;5;241m1\u001B[39m, n):\n\u001B[1;32m    146\u001B[0m     layers\u001B[38;5;241m.\u001B[39mextend([\n\u001B[1;32m    147\u001B[0m         CONV(out_channels, out_channels, bias\u001B[38;5;241m=\u001B[39m\u001B[38;5;129;01mnot\u001B[39;00m norm, \u001B[38;5;241m*\u001B[39m\u001B[38;5;241m*\u001B[39mkwargs),\n\u001B[1;32m    148\u001B[0m         act() \u001B[38;5;28;01mif\u001B[39;00m act_every_n \u001B[38;5;129;01mand\u001B[39;00m act \u001B[38;5;28;01melse\u001B[39;00m \u001B[38;5;28;01mNone\u001B[39;00m,\n\u001B[1;32m    149\u001B[0m         norm(out_channels) \u001B[38;5;28;01mif\u001B[39;00m norm_every_n \u001B[38;5;129;01mand\u001B[39;00m norm \u001B[38;5;28;01melse\u001B[39;00m \u001B[38;5;28;01mNone\u001B[39;00m,\n\u001B[1;32m    150\u001B[0m     ])\n",
      "\u001B[0;31mTypeError\u001B[0m: Conv2d.__init__() got an unexpected keyword argument 'identity'"
     ]
    }
   ],
   "source": [
    "generatorA, generatorB, discriminatorA, discriminatorB = models.build_CycleGan(config)\n",
    "optimizerG = optim.Adam(list(generatorA.parameters()) + list(generatorB.parameters()), lr=config.lr, betas=config.betas)\n",
    "optimizerD = optim.Adam(list(discriminatorA.parameters()) + list(discriminatorB.parameters()), lr=config.lr,\n",
    "                        betas=config.betas)"
   ],
   "metadata": {
    "collapsed": false,
    "ExecuteTime": {
     "end_time": "2023-12-13T10:48:15.004492Z",
     "start_time": "2023-12-13T10:48:14.795097Z"
    }
   },
   "id": "5a26c88a69314fd2"
  },
  {
   "cell_type": "code",
   "execution_count": 46,
   "outputs": [
    {
     "ename": "TypeError",
     "evalue": "expected Tensor as element 0 in argument 0, but got list",
     "output_type": "error",
     "traceback": [
      "\u001B[0;31m---------------------------------------------------------------------------\u001B[0m",
      "\u001B[0;31mTypeError\u001B[0m                                 Traceback (most recent call last)",
      "Cell \u001B[0;32mIn[46], line 5\u001B[0m\n\u001B[1;32m      1\u001B[0m \u001B[38;5;28;01mdef\u001B[39;00m \u001B[38;5;21mdata_extractor\u001B[39m(DATA):\n\u001B[1;32m      2\u001B[0m     \u001B[38;5;28;01mreturn\u001B[39;00m DATA[\u001B[38;5;124m\"\u001B[39m\u001B[38;5;124mimage1\u001B[39m\u001B[38;5;124m\"\u001B[39m], DATA[\u001B[38;5;124m\"\u001B[39m\u001B[38;5;124mimage2\u001B[39m\u001B[38;5;124m\"\u001B[39m]\n\u001B[0;32m----> 5\u001B[0m fixed_inp \u001B[38;5;241m=\u001B[39m \u001B[43mds\u001B[49m\u001B[43m[\u001B[49m\u001B[38;5;241;43m0\u001B[39;49m\u001B[43m:\u001B[49m\u001B[38;5;241;43m9\u001B[39;49m\u001B[43m]\u001B[49m[\u001B[38;5;124m\"\u001B[39m\u001B[38;5;124mimage1\u001B[39m\u001B[38;5;124m\"\u001B[39m], ds[\u001B[38;5;241m0\u001B[39m:\u001B[38;5;241m9\u001B[39m][\u001B[38;5;124m\"\u001B[39m\u001B[38;5;124mimage2\u001B[39m\u001B[38;5;124m\"\u001B[39m]\n\u001B[1;32m      6\u001B[0m trainer \u001B[38;5;241m=\u001B[39m build_cycle_gan_trainer(\n\u001B[1;32m      7\u001B[0m     generatorA, generatorB, discriminatorA, discriminatorB,\n\u001B[1;32m      8\u001B[0m     optimizerG, optimizerD,\n\u001B[0;32m   (...)\u001B[0m\n\u001B[1;32m     12\u001B[0m     save_path\u001B[38;5;241m=\u001B[39m\u001B[38;5;28;01mNone\u001B[39;00m, save_period\u001B[38;5;241m=\u001B[39m\u001B[38;5;241m500\u001B[39m,\n\u001B[1;32m     13\u001B[0m )\n",
      "Cell \u001B[0;32mIn[39], line 6\u001B[0m, in \u001B[0;36mVINSGanDataset.__getitem__\u001B[0;34m(self, item)\u001B[0m\n\u001B[1;32m      5\u001B[0m \u001B[38;5;28;01mdef\u001B[39;00m \u001B[38;5;21m__getitem__\u001B[39m(\u001B[38;5;28mself\u001B[39m, item):\n\u001B[0;32m----> 6\u001B[0m     out \u001B[38;5;241m=\u001B[39m \u001B[38;5;28;43mself\u001B[39;49m\u001B[38;5;241;43m.\u001B[39;49m\u001B[43mdataset\u001B[49m\u001B[43m[\u001B[49m\u001B[43mitem\u001B[49m\u001B[43m]\u001B[49m\n\u001B[1;32m      7\u001B[0m     \u001B[38;5;28mprint\u001B[39m(out\u001B[38;5;241m.\u001B[39mkeys())\n\u001B[1;32m      8\u001B[0m     image1 \u001B[38;5;241m=\u001B[39m out[\u001B[38;5;124m\"\u001B[39m\u001B[38;5;124mimage\u001B[39m\u001B[38;5;124m\"\u001B[39m]\n",
      "File \u001B[0;32m~/PycharmProjects/GANExp/utils/datasets.py:80\u001B[0m, in \u001B[0;36mImageDataset.__getitem__\u001B[0;34m(self, item)\u001B[0m\n\u001B[1;32m     78\u001B[0m     \u001B[38;5;28;01mpass\u001B[39;00m\n\u001B[1;32m     79\u001B[0m \u001B[38;5;28;01mif\u001B[39;00m \u001B[38;5;28misinstance\u001B[39m(item, \u001B[38;5;28mslice\u001B[39m):\n\u001B[0;32m---> 80\u001B[0m     \u001B[38;5;28;01mreturn\u001B[39;00m \u001B[38;5;28;43mself\u001B[39;49m\u001B[38;5;241;43m.\u001B[39;49m\u001B[43mcollate_fn\u001B[49m\u001B[43m(\u001B[49m\u001B[38;5;28;43mself\u001B[39;49m\u001B[43m[\u001B[49m\u001B[43midx\u001B[49m\u001B[43m]\u001B[49m\u001B[43m \u001B[49m\u001B[38;5;28;43;01mfor\u001B[39;49;00m\u001B[43m \u001B[49m\u001B[43midx\u001B[49m\u001B[43m \u001B[49m\u001B[38;5;129;43;01min\u001B[39;49;00m\u001B[43m \u001B[49m\u001B[38;5;28;43mrange\u001B[39;49m\u001B[43m(\u001B[49m\u001B[38;5;241;43m*\u001B[39;49m\u001B[43mitem\u001B[49m\u001B[38;5;241;43m.\u001B[39;49m\u001B[43mindices\u001B[49m\u001B[43m(\u001B[49m\u001B[38;5;28;43mlen\u001B[39;49m\u001B[43m(\u001B[49m\u001B[38;5;28;43mself\u001B[39;49m\u001B[43m)\u001B[49m\u001B[43m)\u001B[49m\u001B[43m)\u001B[49m\u001B[43m)\u001B[49m\n\u001B[1;32m     81\u001B[0m \u001B[38;5;28;01melif\u001B[39;00m \u001B[38;5;28misinstance\u001B[39m(item, \u001B[38;5;28mint\u001B[39m):\n\u001B[1;32m     82\u001B[0m     data_item \u001B[38;5;241m=\u001B[39m \u001B[38;5;28mdict\u001B[39m(\u001B[38;5;28mself\u001B[39m\u001B[38;5;241m.\u001B[39m_data[item \u001B[38;5;241m%\u001B[39m \u001B[38;5;28mlen\u001B[39m(\u001B[38;5;28mself\u001B[39m)])\n",
      "File \u001B[0;32m~/PycharmProjects/GANExp/utils/datasets.py:96\u001B[0m, in \u001B[0;36mImageDataset.collate_fn\u001B[0;34m(batch)\u001B[0m\n\u001B[1;32m     94\u001B[0m keys \u001B[38;5;241m=\u001B[39m batch[\u001B[38;5;241m0\u001B[39m]\u001B[38;5;241m.\u001B[39mkeys()\n\u001B[1;32m     95\u001B[0m batch \u001B[38;5;241m=\u001B[39m \u001B[38;5;28mtuple\u001B[39m(\u001B[38;5;28mzip\u001B[39m(\u001B[38;5;241m*\u001B[39m[b\u001B[38;5;241m.\u001B[39mvalues() \u001B[38;5;28;01mfor\u001B[39;00m b \u001B[38;5;129;01min\u001B[39;00m batch]))\n\u001B[0;32m---> 96\u001B[0m \u001B[38;5;28;01mreturn\u001B[39;00m {\n\u001B[1;32m     97\u001B[0m     k: torch\u001B[38;5;241m.\u001B[39mstack(batch[i]) \u001B[38;5;28;01mfor\u001B[39;00m i, k \u001B[38;5;129;01min\u001B[39;00m \u001B[38;5;28menumerate\u001B[39m(keys)\n\u001B[1;32m     98\u001B[0m }\n",
      "File \u001B[0;32m~/PycharmProjects/GANExp/utils/datasets.py:97\u001B[0m, in \u001B[0;36m<dictcomp>\u001B[0;34m(.0)\u001B[0m\n\u001B[1;32m     94\u001B[0m keys \u001B[38;5;241m=\u001B[39m batch[\u001B[38;5;241m0\u001B[39m]\u001B[38;5;241m.\u001B[39mkeys()\n\u001B[1;32m     95\u001B[0m batch \u001B[38;5;241m=\u001B[39m \u001B[38;5;28mtuple\u001B[39m(\u001B[38;5;28mzip\u001B[39m(\u001B[38;5;241m*\u001B[39m[b\u001B[38;5;241m.\u001B[39mvalues() \u001B[38;5;28;01mfor\u001B[39;00m b \u001B[38;5;129;01min\u001B[39;00m batch]))\n\u001B[1;32m     96\u001B[0m \u001B[38;5;28;01mreturn\u001B[39;00m {\n\u001B[0;32m---> 97\u001B[0m     k: \u001B[43mtorch\u001B[49m\u001B[38;5;241;43m.\u001B[39;49m\u001B[43mstack\u001B[49m\u001B[43m(\u001B[49m\u001B[43mbatch\u001B[49m\u001B[43m[\u001B[49m\u001B[43mi\u001B[49m\u001B[43m]\u001B[49m\u001B[43m)\u001B[49m \u001B[38;5;28;01mfor\u001B[39;00m i, k \u001B[38;5;129;01min\u001B[39;00m \u001B[38;5;28menumerate\u001B[39m(keys)\n\u001B[1;32m     98\u001B[0m }\n",
      "\u001B[0;31mTypeError\u001B[0m: expected Tensor as element 0 in argument 0, but got list"
     ]
    }
   ],
   "source": [
    "def data_extractor(DATA):\n",
    "    return DATA[\"image1\"], DATA[\"image2\"]\n",
    "\n",
    "\n",
    "fixed_inp = ds[0:9][\"image1\"], ds[0:9][\"image2\"]\n",
    "trainer = build_cycle_gan_trainer(\n",
    "    generatorA, generatorB, discriminatorA, discriminatorB,\n",
    "    optimizerG, optimizerD,\n",
    "    kl_cycle_gan_loss_step,\n",
    "    data_extractor,\n",
    "    writer=config.writer, writer_period=100, fixed_inp=fixed_inp,\n",
    "    save_path=None, save_period=500,\n",
    ")"
   ],
   "metadata": {
    "collapsed": false,
    "ExecuteTime": {
     "end_time": "2023-11-03T10:15:33.314167Z",
     "start_time": "2023-11-03T10:15:33.098557Z"
    }
   },
   "id": "d837b541172d3bab"
  },
  {
   "cell_type": "code",
   "execution_count": null,
   "outputs": [],
   "source": [],
   "metadata": {
    "collapsed": false
   },
   "id": "31f386910df1c26a"
  }
 ],
 "metadata": {
  "kernelspec": {
   "display_name": "Python 3",
   "language": "python",
   "name": "python3"
  },
  "language_info": {
   "codemirror_mode": {
    "name": "ipython",
    "version": 2
   },
   "file_extension": ".py",
   "mimetype": "text/x-python",
   "name": "python",
   "nbconvert_exporter": "python",
   "pygments_lexer": "ipython2",
   "version": "2.7.6"
  }
 },
 "nbformat": 4,
 "nbformat_minor": 5
}
