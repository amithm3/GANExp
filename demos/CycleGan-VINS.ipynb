{
 "cells": [
  {
   "cell_type": "code",
   "execution_count": 1,
   "id": "initial_id",
   "metadata": {
    "collapsed": true,
    "ExecuteTime": {
     "end_time": "2023-11-03T05:49:10.823498Z",
     "start_time": "2023-11-03T05:49:10.258011Z"
    }
   },
   "outputs": [],
   "source": [
    "%load_ext autoreload\n",
    "%autoreload 2\n",
    "%matplotlib inline"
   ]
  },
  {
   "cell_type": "code",
   "execution_count": 34,
   "outputs": [],
   "source": [
    "import torch\n",
    "from torch import nn, optim\n",
    "from torchvision import transforms as T\n",
    "from torchvision.utils import make_grid, save_image\n",
    "from torch.utils.data import Dataset\n",
    "\n",
    "from gan import models, build_cycle_gan_trainer, kl_cycle_gan_loss_step\n",
    "from utils.benchmark import train\n",
    "from utils.display import display_images\n",
    "from utils.checkpoints import load_checkpoint\n",
    "from utils.datasets import DomainDataset\n",
    "from __datasets__ import VINSDataset"
   ],
   "metadata": {
    "collapsed": false,
    "ExecuteTime": {
     "end_time": "2023-11-03T10:09:32.746375Z",
     "start_time": "2023-11-03T10:09:32.717111Z"
    }
   },
   "id": "a61e9a809e84edab"
  },
  {
   "cell_type": "code",
   "execution_count": 4,
   "outputs": [],
   "source": [
    "config = models.CycleGanConfig(\n",
    "    \"../../pytorch/datasets/vins\",\n",
    "    \"CycleGan-VINS\",\n",
    "\n",
    "    batch_size=8,\n",
    "    norm=nn.InstanceNorm2d,\n",
    "    writer=True,\n",
    "    lr=2e-4,\n",
    "    p=0,\n",
    "\n",
    "    inp_channels=3,\n",
    "    hidden_channels=64,\n",
    "    out_channels=3,\n",
    "    downsample=3,\n",
    "    residuals=7,\n",
    "    n=0,\n",
    "    blocks=(64, 128, 256, 512),\n",
    ")"
   ],
   "metadata": {
    "collapsed": false,
    "ExecuteTime": {
     "end_time": "2023-11-03T06:36:37.609557Z",
     "start_time": "2023-11-03T06:36:37.474334Z"
    }
   },
   "id": "c4830aa3ec9fa35a"
  },
  {
   "cell_type": "code",
   "execution_count": 39,
   "outputs": [
    {
     "data": {
      "text/plain": "740"
     },
     "execution_count": 39,
     "metadata": {},
     "output_type": "execute_result"
    }
   ],
   "source": [
    "class VINSGanDataset(Dataset):\n",
    "    def __init__(self, dataset: \"VINSDataset\"):\n",
    "        self.dataset = dataset\n",
    "\n",
    "    def __getitem__(self, item):\n",
    "        out = self.dataset[item]\n",
    "        print(out.keys())\n",
    "        image1 = out[\"image\"]\n",
    "        bboxes = out[\"bboxes\"]\n",
    "        bbox = bboxes[torch.randint(len(bboxes), (1,))]\n",
    "        image2 = image1.clone()\n",
    "        image2[:, bbox[1]:bbox[3], bbox[0]:bbox[2]] = -1\n",
    "        return {\n",
    "            \"image1\": image1,\n",
    "            \"image2\": image2,\n",
    "        }\n",
    "\n",
    "    def __len__(self):\n",
    "        return len(self.dataset)\n",
    "\n",
    "\n",
    "ds = VINSGanDataset(VINSDataset(DIR=config.dataset_path, SET=\"Android\", download=True, sub_sample=1,\n",
    "                                image_transform=T.Compose([\n",
    "                                    T.Resize((64, 64)),\n",
    "                                    T.ToTensor(),\n",
    "                                    T.Normalize((0.5, 0.5, 0.5), (0.5, 0.5, 0.5)),\n",
    "                                    lambda x: x.to(config.device),\n",
    "                                ])))\n",
    "len(ds)"
   ],
   "metadata": {
    "collapsed": false,
    "ExecuteTime": {
     "end_time": "2023-11-03T10:12:55.650656Z",
     "start_time": "2023-11-03T10:12:55.463238Z"
    }
   },
   "id": "10328fddfb8ace3d"
  },
  {
   "cell_type": "code",
   "execution_count": 40,
   "outputs": [],
   "source": [
    "generatorA, generatorB, discriminatorA, discriminatorB = models.build_CycleGan(config)\n",
    "optimizerG = optim.Adam(list(generatorA.parameters()) + list(generatorB.parameters()), lr=config.lr, betas=config.betas)\n",
    "optimizerD = optim.Adam(list(discriminatorA.parameters()) + list(discriminatorB.parameters()), lr=config.lr,\n",
    "                        betas=config.betas)"
   ],
   "metadata": {
    "collapsed": false,
    "ExecuteTime": {
     "end_time": "2023-11-03T10:12:57.155209Z",
     "start_time": "2023-11-03T10:12:56.216266Z"
    }
   },
   "id": "5a26c88a69314fd2"
  },
  {
   "cell_type": "code",
   "execution_count": 46,
   "outputs": [
    {
     "ename": "TypeError",
     "evalue": "expected Tensor as element 0 in argument 0, but got list",
     "output_type": "error",
     "traceback": [
      "\u001B[0;31m---------------------------------------------------------------------------\u001B[0m",
      "\u001B[0;31mTypeError\u001B[0m                                 Traceback (most recent call last)",
      "Cell \u001B[0;32mIn[46], line 5\u001B[0m\n\u001B[1;32m      1\u001B[0m \u001B[38;5;28;01mdef\u001B[39;00m \u001B[38;5;21mdata_extractor\u001B[39m(DATA):\n\u001B[1;32m      2\u001B[0m     \u001B[38;5;28;01mreturn\u001B[39;00m DATA[\u001B[38;5;124m\"\u001B[39m\u001B[38;5;124mimage1\u001B[39m\u001B[38;5;124m\"\u001B[39m], DATA[\u001B[38;5;124m\"\u001B[39m\u001B[38;5;124mimage2\u001B[39m\u001B[38;5;124m\"\u001B[39m]\n\u001B[0;32m----> 5\u001B[0m fixed_inp \u001B[38;5;241m=\u001B[39m \u001B[43mds\u001B[49m\u001B[43m[\u001B[49m\u001B[38;5;241;43m0\u001B[39;49m\u001B[43m:\u001B[49m\u001B[38;5;241;43m9\u001B[39;49m\u001B[43m]\u001B[49m[\u001B[38;5;124m\"\u001B[39m\u001B[38;5;124mimage1\u001B[39m\u001B[38;5;124m\"\u001B[39m], ds[\u001B[38;5;241m0\u001B[39m:\u001B[38;5;241m9\u001B[39m][\u001B[38;5;124m\"\u001B[39m\u001B[38;5;124mimage2\u001B[39m\u001B[38;5;124m\"\u001B[39m]\n\u001B[1;32m      6\u001B[0m trainer \u001B[38;5;241m=\u001B[39m build_cycle_gan_trainer(\n\u001B[1;32m      7\u001B[0m     generatorA, generatorB, discriminatorA, discriminatorB,\n\u001B[1;32m      8\u001B[0m     optimizerG, optimizerD,\n\u001B[0;32m   (...)\u001B[0m\n\u001B[1;32m     12\u001B[0m     save_path\u001B[38;5;241m=\u001B[39m\u001B[38;5;28;01mNone\u001B[39;00m, save_period\u001B[38;5;241m=\u001B[39m\u001B[38;5;241m500\u001B[39m,\n\u001B[1;32m     13\u001B[0m )\n",
      "Cell \u001B[0;32mIn[39], line 6\u001B[0m, in \u001B[0;36mVINSGanDataset.__getitem__\u001B[0;34m(self, item)\u001B[0m\n\u001B[1;32m      5\u001B[0m \u001B[38;5;28;01mdef\u001B[39;00m \u001B[38;5;21m__getitem__\u001B[39m(\u001B[38;5;28mself\u001B[39m, item):\n\u001B[0;32m----> 6\u001B[0m     out \u001B[38;5;241m=\u001B[39m \u001B[38;5;28;43mself\u001B[39;49m\u001B[38;5;241;43m.\u001B[39;49m\u001B[43mdataset\u001B[49m\u001B[43m[\u001B[49m\u001B[43mitem\u001B[49m\u001B[43m]\u001B[49m\n\u001B[1;32m      7\u001B[0m     \u001B[38;5;28mprint\u001B[39m(out\u001B[38;5;241m.\u001B[39mkeys())\n\u001B[1;32m      8\u001B[0m     image1 \u001B[38;5;241m=\u001B[39m out[\u001B[38;5;124m\"\u001B[39m\u001B[38;5;124mimage\u001B[39m\u001B[38;5;124m\"\u001B[39m]\n",
      "File \u001B[0;32m~/PycharmProjects/GANExp/utils/datasets.py:80\u001B[0m, in \u001B[0;36mImageDataset.__getitem__\u001B[0;34m(self, item)\u001B[0m\n\u001B[1;32m     78\u001B[0m     \u001B[38;5;28;01mpass\u001B[39;00m\n\u001B[1;32m     79\u001B[0m \u001B[38;5;28;01mif\u001B[39;00m \u001B[38;5;28misinstance\u001B[39m(item, \u001B[38;5;28mslice\u001B[39m):\n\u001B[0;32m---> 80\u001B[0m     \u001B[38;5;28;01mreturn\u001B[39;00m \u001B[38;5;28;43mself\u001B[39;49m\u001B[38;5;241;43m.\u001B[39;49m\u001B[43mcollate_fn\u001B[49m\u001B[43m(\u001B[49m\u001B[38;5;28;43mself\u001B[39;49m\u001B[43m[\u001B[49m\u001B[43midx\u001B[49m\u001B[43m]\u001B[49m\u001B[43m \u001B[49m\u001B[38;5;28;43;01mfor\u001B[39;49;00m\u001B[43m \u001B[49m\u001B[43midx\u001B[49m\u001B[43m \u001B[49m\u001B[38;5;129;43;01min\u001B[39;49;00m\u001B[43m \u001B[49m\u001B[38;5;28;43mrange\u001B[39;49m\u001B[43m(\u001B[49m\u001B[38;5;241;43m*\u001B[39;49m\u001B[43mitem\u001B[49m\u001B[38;5;241;43m.\u001B[39;49m\u001B[43mindices\u001B[49m\u001B[43m(\u001B[49m\u001B[38;5;28;43mlen\u001B[39;49m\u001B[43m(\u001B[49m\u001B[38;5;28;43mself\u001B[39;49m\u001B[43m)\u001B[49m\u001B[43m)\u001B[49m\u001B[43m)\u001B[49m\u001B[43m)\u001B[49m\n\u001B[1;32m     81\u001B[0m \u001B[38;5;28;01melif\u001B[39;00m \u001B[38;5;28misinstance\u001B[39m(item, \u001B[38;5;28mint\u001B[39m):\n\u001B[1;32m     82\u001B[0m     data_item \u001B[38;5;241m=\u001B[39m \u001B[38;5;28mdict\u001B[39m(\u001B[38;5;28mself\u001B[39m\u001B[38;5;241m.\u001B[39m_data[item \u001B[38;5;241m%\u001B[39m \u001B[38;5;28mlen\u001B[39m(\u001B[38;5;28mself\u001B[39m)])\n",
      "File \u001B[0;32m~/PycharmProjects/GANExp/utils/datasets.py:96\u001B[0m, in \u001B[0;36mImageDataset.collate_fn\u001B[0;34m(batch)\u001B[0m\n\u001B[1;32m     94\u001B[0m keys \u001B[38;5;241m=\u001B[39m batch[\u001B[38;5;241m0\u001B[39m]\u001B[38;5;241m.\u001B[39mkeys()\n\u001B[1;32m     95\u001B[0m batch \u001B[38;5;241m=\u001B[39m \u001B[38;5;28mtuple\u001B[39m(\u001B[38;5;28mzip\u001B[39m(\u001B[38;5;241m*\u001B[39m[b\u001B[38;5;241m.\u001B[39mvalues() \u001B[38;5;28;01mfor\u001B[39;00m b \u001B[38;5;129;01min\u001B[39;00m batch]))\n\u001B[0;32m---> 96\u001B[0m \u001B[38;5;28;01mreturn\u001B[39;00m {\n\u001B[1;32m     97\u001B[0m     k: torch\u001B[38;5;241m.\u001B[39mstack(batch[i]) \u001B[38;5;28;01mfor\u001B[39;00m i, k \u001B[38;5;129;01min\u001B[39;00m \u001B[38;5;28menumerate\u001B[39m(keys)\n\u001B[1;32m     98\u001B[0m }\n",
      "File \u001B[0;32m~/PycharmProjects/GANExp/utils/datasets.py:97\u001B[0m, in \u001B[0;36m<dictcomp>\u001B[0;34m(.0)\u001B[0m\n\u001B[1;32m     94\u001B[0m keys \u001B[38;5;241m=\u001B[39m batch[\u001B[38;5;241m0\u001B[39m]\u001B[38;5;241m.\u001B[39mkeys()\n\u001B[1;32m     95\u001B[0m batch \u001B[38;5;241m=\u001B[39m \u001B[38;5;28mtuple\u001B[39m(\u001B[38;5;28mzip\u001B[39m(\u001B[38;5;241m*\u001B[39m[b\u001B[38;5;241m.\u001B[39mvalues() \u001B[38;5;28;01mfor\u001B[39;00m b \u001B[38;5;129;01min\u001B[39;00m batch]))\n\u001B[1;32m     96\u001B[0m \u001B[38;5;28;01mreturn\u001B[39;00m {\n\u001B[0;32m---> 97\u001B[0m     k: \u001B[43mtorch\u001B[49m\u001B[38;5;241;43m.\u001B[39;49m\u001B[43mstack\u001B[49m\u001B[43m(\u001B[49m\u001B[43mbatch\u001B[49m\u001B[43m[\u001B[49m\u001B[43mi\u001B[49m\u001B[43m]\u001B[49m\u001B[43m)\u001B[49m \u001B[38;5;28;01mfor\u001B[39;00m i, k \u001B[38;5;129;01min\u001B[39;00m \u001B[38;5;28menumerate\u001B[39m(keys)\n\u001B[1;32m     98\u001B[0m }\n",
      "\u001B[0;31mTypeError\u001B[0m: expected Tensor as element 0 in argument 0, but got list"
     ]
    }
   ],
   "source": [
    "def data_extractor(DATA):\n",
    "    return DATA[\"image1\"], DATA[\"image2\"]\n",
    "\n",
    "\n",
    "fixed_inp = ds[0:9][\"image1\"], ds[0:9][\"image2\"]\n",
    "trainer = build_cycle_gan_trainer(\n",
    "    generatorA, generatorB, discriminatorA, discriminatorB,\n",
    "    optimizerG, optimizerD,\n",
    "    kl_cycle_gan_loss_step,\n",
    "    data_extractor,\n",
    "    writer=config.writer, writer_period=100, fixed_inp=fixed_inp,\n",
    "    save_path=None, save_period=500,\n",
    ")"
   ],
   "metadata": {
    "collapsed": false,
    "ExecuteTime": {
     "end_time": "2023-11-03T10:15:33.314167Z",
     "start_time": "2023-11-03T10:15:33.098557Z"
    }
   },
   "id": "d837b541172d3bab"
  },
  {
   "cell_type": "code",
   "execution_count": null,
   "outputs": [],
   "source": [],
   "metadata": {
    "collapsed": false
   },
   "id": "31f386910df1c26a"
  }
 ],
 "metadata": {
  "kernelspec": {
   "display_name": "Python 3",
   "language": "python",
   "name": "python3"
  },
  "language_info": {
   "codemirror_mode": {
    "name": "ipython",
    "version": 2
   },
   "file_extension": ".py",
   "mimetype": "text/x-python",
   "name": "python",
   "nbconvert_exporter": "python",
   "pygments_lexer": "ipython2",
   "version": "2.7.6"
  }
 },
 "nbformat": 4,
 "nbformat_minor": 5
}
