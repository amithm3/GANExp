{
 "cells": [
  {
   "cell_type": "code",
   "execution_count": 1,
   "id": "initial_id",
   "metadata": {
    "collapsed": true,
    "ExecuteTime": {
     "end_time": "2024-01-15T09:09:46.541471Z",
     "start_time": "2024-01-15T09:09:46.199131Z"
    }
   },
   "outputs": [],
   "source": [
    "%load_ext autoreload\n",
    "%autoreload 2\n",
    "%matplotlib inline"
   ]
  },
  {
   "cell_type": "code",
   "execution_count": 2,
   "outputs": [],
   "source": [
    "import torch\n",
    "from torch import nn, optim\n",
    "from torchvision import transforms as T\n",
    "from torchvision.utils import make_grid, save_image\n",
    "\n",
    "from gan import models, build_gan_trainer, kl_gan_loss_step\n",
    "from utils.benchmark import train\n",
    "from utils.display import display_images\n",
    "from utils.checkpoints import load_checkpoint\n",
    "from __datasets__ import CelebADataset"
   ],
   "metadata": {
    "collapsed": false,
    "ExecuteTime": {
     "end_time": "2024-01-15T09:09:47.594390Z",
     "start_time": "2024-01-15T09:09:46.542320Z"
    }
   },
   "id": "ba4d957a37505649"
  },
  {
   "cell_type": "code",
   "outputs": [
    {
     "data": {
      "text/plain": "DCGanConfig(model_name='CelebA', model_version='v1', model_dir='./models/', log_dir='./logs/', device='mps', writer=<torch.utils.tensorboard.writer.SummaryWriter object at 0x1171c9f90>, n=1, p=0, sampling_layers=5, lr=0.0002, betas=(0.5, 0.999), blocks=(64, 128, 256, 512), latent_dim=128, out_channels=3, hidden_channels=64, head_kernel=4, head_stride=1, head_padding=0)"
     },
     "execution_count": 3,
     "metadata": {},
     "output_type": "execute_result"
    }
   ],
   "source": [
    "config_dc_gan = models.DCGanConfig(\n",
    "    \"CelebA\",\n",
    "    writer=True,\n",
    "    lr=2e-4,\n",
    "    p=0,\n",
    "    hidden_channels=64,\n",
    "    out_channels=3,\n",
    "    sampling_layers=5,\n",
    "    blocks=(64, 128, 256, 512),\n",
    ")\n",
    "config_dc_gan"
   ],
   "metadata": {
    "collapsed": false,
    "ExecuteTime": {
     "end_time": "2024-01-15T09:09:47.661852Z",
     "start_time": "2024-01-15T09:09:47.594804Z"
    }
   },
   "id": "e9028d1779c28002",
   "execution_count": 3
  },
  {
   "cell_type": "code",
   "execution_count": 4,
   "outputs": [
    {
     "data": {
      "text/plain": "(40519, dict)"
     },
     "execution_count": 4,
     "metadata": {},
     "output_type": "execute_result"
    }
   ],
   "source": [
    "ds = CelebADataset(DIR=\"../../pytorch/datasets/celeb-a\", download=True, sub_sample=0.2,\n",
    "                   image_transform=T.Compose([\n",
    "                       T.Resize((64, 64)),\n",
    "                       T.ToTensor(),\n",
    "                       T.Normalize((0.5, 0.5, 0.5), (0.5, 0.5, 0.5)),\n",
    "                       lambda x: x.to(config_dc_gan.device),\n",
    "                   ]))\n",
    "len(ds), type(ds[0:1])"
   ],
   "metadata": {
    "collapsed": false,
    "ExecuteTime": {
     "end_time": "2024-01-15T09:09:48.972120Z",
     "start_time": "2024-01-15T09:09:47.657327Z"
    }
   },
   "id": "f72723ef2afc73ba"
  },
  {
   "cell_type": "code",
   "execution_count": 5,
   "outputs": [],
   "source": [
    "generator, discriminator = models.build_DCGan(config_dc_gan)\n",
    "optimizerG = optim.Adam(generator.parameters(), lr=config_dc_gan.lr, betas=config_dc_gan.betas)\n",
    "optimizerD = optim.Adam(discriminator.parameters(), lr=config_dc_gan.lr, betas=config_dc_gan.betas)"
   ],
   "metadata": {
    "collapsed": false,
    "ExecuteTime": {
     "end_time": "2024-01-15T09:09:49.218564Z",
     "start_time": "2024-01-15T09:09:48.968865Z"
    }
   },
   "id": "e4c3ae7e9e8b595c"
  },
  {
   "cell_type": "code",
   "execution_count": 6,
   "outputs": [
    {
     "data": {
      "text/plain": "0"
     },
     "execution_count": 6,
     "metadata": {},
     "output_type": "execute_result"
    }
   ],
   "source": [
    "if input(\"Load Model[y|n]?> \").lower() == \"y\":\n",
    "    others = load_checkpoint(\n",
    "        input(\"path?> \"),\n",
    "        {\"generator\": generator, \"discriminator\": discriminator},\n",
    "        {\"generator\": optimizerG, \"discriminator\": optimizerD},\n",
    "    )\n",
    "    step_offset = others[\"step\"]\n",
    "else:\n",
    "    step_offset = 0\n",
    "step_offset"
   ],
   "metadata": {
    "collapsed": false,
    "ExecuteTime": {
     "end_time": "2024-01-15T09:09:50.551574Z",
     "start_time": "2024-01-15T09:09:49.219128Z"
    }
   },
   "id": "68fced7f61186986"
  },
  {
   "cell_type": "code",
   "execution_count": 7,
   "outputs": [],
   "source": [
    "def data_extractor(DATA):\n",
    "    real = DATA[\"image\"]\n",
    "    noise = generator.sample_noise(real.shape[0], device=config_dc_gan.device)\n",
    "    return real, noise\n",
    "\n",
    "fixed_inp = generator.sample_noise(9 * 9, device=config_dc_gan.device)\n",
    "trainer = build_gan_trainer(\n",
    "    generator, discriminator,\n",
    "    optimizerG, optimizerD,\n",
    "    kl_gan_loss_step, data_extractor,\n",
    "    save_path=None, save_period=500,\n",
    "    writer=config_dc_gan.writer, writer_period=200, fixed_inp=fixed_inp,\n",
    "    perceptual_loss=False,\n",
    "    device=config_dc_gan.device,\n",
    ")"
   ],
   "metadata": {
    "collapsed": false,
    "ExecuteTime": {
     "end_time": "2024-01-15T09:09:50.574604Z",
     "start_time": "2024-01-15T09:09:50.538631Z"
    }
   },
   "id": "a4c4b9f643c7c5ff"
  },
  {
   "cell_type": "code",
   "execution_count": 8,
   "outputs": [
    {
     "name": "stdout",
     "output_type": "stream",
     "text": [
      "DCGenerator(\n",
      "  (head): ConvBlock(\n",
      "    (layers): ModuleList(\n",
      "      (0): ConvTranspose2d(128, 2048, kernel_size=(4, 4), stride=(1, 1))\n",
      "      (1): ReLU()\n",
      "    )\n",
      "  )\n",
      "  (blocks): Sequential(\n",
      "    (0): ConvBlock(\n",
      "      (layers): ModuleList(\n",
      "        (0): ConvTranspose2d(2048, 1024, kernel_size=(4, 4), stride=(2, 2), padding=(1, 1), bias=False)\n",
      "        (1): InstanceNorm2d(1024, eps=1e-05, momentum=0.1, affine=False, track_running_stats=False)\n",
      "        (2): ReLU()\n",
      "      )\n",
      "    )\n",
      "    (1): ConvBlock(\n",
      "      (layers): ModuleList(\n",
      "        (0): ConvTranspose2d(1024, 512, kernel_size=(4, 4), stride=(2, 2), padding=(1, 1), bias=False)\n",
      "        (1): InstanceNorm2d(512, eps=1e-05, momentum=0.1, affine=False, track_running_stats=False)\n",
      "        (2): ReLU()\n",
      "      )\n",
      "    )\n",
      "    (2): ConvBlock(\n",
      "      (layers): ModuleList(\n",
      "        (0): ConvTranspose2d(512, 256, kernel_size=(4, 4), stride=(2, 2), padding=(1, 1), bias=False)\n",
      "        (1): InstanceNorm2d(256, eps=1e-05, momentum=0.1, affine=False, track_running_stats=False)\n",
      "        (2): ReLU()\n",
      "      )\n",
      "    )\n",
      "    (3): ConvBlock(\n",
      "      (layers): ModuleList(\n",
      "        (0): ConvTranspose2d(256, 128, kernel_size=(4, 4), stride=(2, 2), padding=(1, 1), bias=False)\n",
      "        (1): InstanceNorm2d(128, eps=1e-05, momentum=0.1, affine=False, track_running_stats=False)\n",
      "        (2): ReLU()\n",
      "      )\n",
      "    )\n",
      "    (4): ConvBlock(\n",
      "      (layers): ModuleList(\n",
      "        (0): ConvTranspose2d(128, 64, kernel_size=(4, 4), stride=(2, 2), padding=(1, 1), bias=False)\n",
      "        (1): InstanceNorm2d(64, eps=1e-05, momentum=0.1, affine=False, track_running_stats=False)\n",
      "        (2): ReLU()\n",
      "      )\n",
      "    )\n",
      "  )\n",
      "  (tail): ConvBlock(\n",
      "    (layers): ModuleList(\n",
      "      (0): Conv2d(64, 3, kernel_size=(4, 4), stride=(2, 2), padding=(1, 1))\n",
      "      (1): Tanh()\n",
      "    )\n",
      "  )\n",
      ")\n",
      "\n",
      "PatchDiscriminator(\n",
      "  (head): ConvBlock(\n",
      "    (layers): ModuleList(\n",
      "      (0): Conv2d(3, 64, kernel_size=(4, 4), stride=(2, 2), padding=(1, 1), bias=False)\n",
      "      (1): InstanceNorm2d(64, eps=1e-05, momentum=0.1, affine=False, track_running_stats=False)\n",
      "      (2): LeakyReLU(negative_slope=0.01)\n",
      "    )\n",
      "  )\n",
      "  (blocks): Sequential(\n",
      "    (0): ConvBlock(\n",
      "      (layers): ModuleList(\n",
      "        (0): Conv2d(64, 128, kernel_size=(4, 4), stride=(2, 2), padding=(1, 1), bias=False)\n",
      "        (1): InstanceNorm2d(128, eps=1e-05, momentum=0.1, affine=False, track_running_stats=False)\n",
      "        (2): LeakyReLU(negative_slope=0.01)\n",
      "      )\n",
      "    )\n",
      "    (1): ConvBlock(\n",
      "      (layers): ModuleList(\n",
      "        (0): Conv2d(128, 256, kernel_size=(4, 4), stride=(2, 2), padding=(1, 1), bias=False)\n",
      "        (1): InstanceNorm2d(256, eps=1e-05, momentum=0.1, affine=False, track_running_stats=False)\n",
      "        (2): LeakyReLU(negative_slope=0.01)\n",
      "      )\n",
      "    )\n",
      "    (2): ConvBlock(\n",
      "      (layers): ModuleList(\n",
      "        (0): Conv2d(256, 512, kernel_size=(4, 4), stride=(1, 1), padding=(1, 1), bias=False)\n",
      "        (1): InstanceNorm2d(512, eps=1e-05, momentum=0.1, affine=False, track_running_stats=False)\n",
      "        (2): LeakyReLU(negative_slope=0.01)\n",
      "      )\n",
      "    )\n",
      "  )\n",
      "  (tail): ConvBlock(\n",
      "    (layers): ModuleList(\n",
      "      (0): Conv2d(512, 1, kernel_size=(4, 4), stride=(1, 1), padding=(1, 1))\n",
      "      (1): Sigmoid()\n",
      "    )\n",
      "  )\n",
      ")\n",
      "torch.Size([81, 3, 64, 64]) torch.Size([81, 1, 6, 6])\n"
     ]
    }
   ],
   "source": [
    "print(generator, end=\"\\n\\n\")\n",
    "print(discriminator, end=\"\\n\\n\")\n",
    "print((fake := generator(fixed_inp)).cpu().shape, discriminator(fake).shape)"
   ],
   "metadata": {
    "collapsed": false,
    "ExecuteTime": {
     "end_time": "2024-01-15T09:09:52.424058Z",
     "start_time": "2024-01-15T09:09:50.571304Z"
    }
   },
   "id": "96f54a729de254c0"
  },
  {
   "cell_type": "code",
   "execution_count": null,
   "outputs": [
    {
     "data": {
      "text/plain": "Epoch: 0/4 | Batch 0/2533|          |  0% [00:00<?, ?it/s ]",
      "application/vnd.jupyter.widget-view+json": {
       "version_major": 2,
       "version_minor": 0,
       "model_id": "559a8487667b4127891fdf7ca981aa5b"
      }
     },
     "metadata": {},
     "output_type": "display_data"
    }
   ],
   "source": [
    "generator = generator.train()\n",
    "discriminator = discriminator.train()\n",
    "step_offset = train(\n",
    "    trainer, ds,\n",
    "    ne=4, bs=16,\n",
    "    step_offset=step_offset + 1,\n",
    ")\n",
    "step_offset"
   ],
   "metadata": {
    "collapsed": false,
    "is_executing": true,
    "ExecuteTime": {
     "start_time": "2024-01-15T09:09:52.420924Z"
    }
   },
   "id": "1ae314f108449eef"
  },
  {
   "cell_type": "code",
   "execution_count": null,
   "outputs": [],
   "source": [
    "%%time\n",
    "\n",
    "generator = generator.eval()\n",
    "discriminator = discriminator.eval()\n",
    "with torch.inference_mode():\n",
    "    fake = generator(generator.sample_noise(9 * 9, device=config_dc_gan.device))\n",
    "    grid_fake = make_grid(fake, nrow=9, normalize=True)\n",
    "display_images(torch.stack([grid_fake]).cpu().permute(0, 2, 3, 1))"
   ],
   "metadata": {
    "collapsed": false,
    "is_executing": true
   },
   "id": "ba2367596093406"
  },
  {
   "cell_type": "code",
   "execution_count": null,
   "outputs": [],
   "source": [
    "save_image(grid_fake, \"grid_fake.png\")"
   ],
   "metadata": {
    "collapsed": false,
    "is_executing": true
   },
   "id": "5184129764408fc4"
  },
  {
   "cell_type": "code",
   "outputs": [],
   "source": [],
   "metadata": {
    "collapsed": false,
    "is_executing": true
   },
   "id": "4c722ee33d821bb0"
  }
 ],
 "metadata": {
  "kernelspec": {
   "display_name": "Python 3",
   "language": "python",
   "name": "python3"
  },
  "language_info": {
   "codemirror_mode": {
    "name": "ipython",
    "version": 2
   },
   "file_extension": ".py",
   "mimetype": "text/x-python",
   "name": "python",
   "nbconvert_exporter": "python",
   "pygments_lexer": "ipython2",
   "version": "2.7.6"
  }
 },
 "nbformat": 4,
 "nbformat_minor": 5
}
